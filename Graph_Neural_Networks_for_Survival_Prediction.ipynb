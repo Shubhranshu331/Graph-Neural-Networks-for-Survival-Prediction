{
  "metadata": {
    "kernelspec": {
      "language": "python",
      "display_name": "Python 3",
      "name": "python3"
    },
    "language_info": {
      "name": "python",
      "version": "3.11.11",
      "mimetype": "text/x-python",
      "codemirror_mode": {
        "name": "ipython",
        "version": 3
      },
      "pygments_lexer": "ipython3",
      "nbconvert_exporter": "python",
      "file_extension": ".py"
    },
    "kaggle": {
      "accelerator": "nvidiaTeslaT4",
      "dataSources": [
        {
          "sourceId": 3136,
          "databundleVersionId": 26502,
          "sourceType": "competition"
        }
      ],
      "dockerImageVersionId": 31011,
      "isInternetEnabled": true,
      "language": "python",
      "sourceType": "notebook",
      "isGpuEnabled": true
    },
    "colab": {
      "name": "Graph Neural Networks for Survival Prediction",
      "provenance": [],
      "include_colab_link": true
    },
    "widgets": {
      "application/vnd.jupyter.widget-state+json": {
        "c6ddedf1f1f14982908f1806fd2e3b06": {
          "model_module": "@jupyter-widgets/controls",
          "model_name": "VBoxModel",
          "model_module_version": "1.5.0",
          "state": {
            "_dom_classes": [],
            "_model_module": "@jupyter-widgets/controls",
            "_model_module_version": "1.5.0",
            "_model_name": "VBoxModel",
            "_view_count": null,
            "_view_module": "@jupyter-widgets/controls",
            "_view_module_version": "1.5.0",
            "_view_name": "VBoxView",
            "box_style": "",
            "children": [
              "IPY_MODEL_ada614449bff43a1a28b2b3685a879f9"
            ],
            "layout": "IPY_MODEL_0698162eb1a84a19a2af45d1a492acef"
          }
        },
        "18d89ddd787649e6942498ad9dea064f": {
          "model_module": "@jupyter-widgets/controls",
          "model_name": "HTMLModel",
          "model_module_version": "1.5.0",
          "state": {
            "_dom_classes": [],
            "_model_module": "@jupyter-widgets/controls",
            "_model_module_version": "1.5.0",
            "_model_name": "HTMLModel",
            "_view_count": null,
            "_view_module": "@jupyter-widgets/controls",
            "_view_module_version": "1.5.0",
            "_view_name": "HTMLView",
            "description": "",
            "description_tooltip": null,
            "layout": "IPY_MODEL_e3fb19e74ce04621bc2b1a5c7dcbd3df",
            "placeholder": "​",
            "style": "IPY_MODEL_1449a709e4704682ac2c1af7fe92f927",
            "value": "<center> <img\nsrc=https://www.kaggle.com/static/images/site-logo.png\nalt='Kaggle'> <br> Create an API token from <a\nhref=\"https://www.kaggle.com/settings/account\" target=\"_blank\">your Kaggle\nsettings page</a> and paste it below along with your Kaggle username. <br> </center>"
          }
        },
        "2eb84242e2694a658313dabfdd007729": {
          "model_module": "@jupyter-widgets/controls",
          "model_name": "TextModel",
          "model_module_version": "1.5.0",
          "state": {
            "_dom_classes": [],
            "_model_module": "@jupyter-widgets/controls",
            "_model_module_version": "1.5.0",
            "_model_name": "TextModel",
            "_view_count": null,
            "_view_module": "@jupyter-widgets/controls",
            "_view_module_version": "1.5.0",
            "_view_name": "TextView",
            "continuous_update": true,
            "description": "Username:",
            "description_tooltip": null,
            "disabled": false,
            "layout": "IPY_MODEL_9c2db38cff48437f94bf0f5805deb285",
            "placeholder": "​",
            "style": "IPY_MODEL_0232d8b450ba48038b4c1347eb4752e2",
            "value": "shubhranshu331"
          }
        },
        "224cac29cd254b4ca62957601a7a1de6": {
          "model_module": "@jupyter-widgets/controls",
          "model_name": "PasswordModel",
          "model_module_version": "1.5.0",
          "state": {
            "_dom_classes": [],
            "_model_module": "@jupyter-widgets/controls",
            "_model_module_version": "1.5.0",
            "_model_name": "PasswordModel",
            "_view_count": null,
            "_view_module": "@jupyter-widgets/controls",
            "_view_module_version": "1.5.0",
            "_view_name": "PasswordView",
            "continuous_update": true,
            "description": "Token:",
            "description_tooltip": null,
            "disabled": false,
            "layout": "IPY_MODEL_8a24be8cac2b4f12a3f2c3bb5e92bad6",
            "placeholder": "​",
            "style": "IPY_MODEL_69a10089571d4aabac72a55dcc1d853d",
            "value": ""
          }
        },
        "f6087e38549b40298cfcd4bc9e87bd40": {
          "model_module": "@jupyter-widgets/controls",
          "model_name": "ButtonModel",
          "model_module_version": "1.5.0",
          "state": {
            "_dom_classes": [],
            "_model_module": "@jupyter-widgets/controls",
            "_model_module_version": "1.5.0",
            "_model_name": "ButtonModel",
            "_view_count": null,
            "_view_module": "@jupyter-widgets/controls",
            "_view_module_version": "1.5.0",
            "_view_name": "ButtonView",
            "button_style": "",
            "description": "Login",
            "disabled": false,
            "icon": "",
            "layout": "IPY_MODEL_4fd638e9d7f744ec9a15a2a289d65358",
            "style": "IPY_MODEL_b433c4c269a04deab9048fd3c2483db8",
            "tooltip": ""
          }
        },
        "c996ea1ffe9c42c494652fc260cc1c9d": {
          "model_module": "@jupyter-widgets/controls",
          "model_name": "HTMLModel",
          "model_module_version": "1.5.0",
          "state": {
            "_dom_classes": [],
            "_model_module": "@jupyter-widgets/controls",
            "_model_module_version": "1.5.0",
            "_model_name": "HTMLModel",
            "_view_count": null,
            "_view_module": "@jupyter-widgets/controls",
            "_view_module_version": "1.5.0",
            "_view_name": "HTMLView",
            "description": "",
            "description_tooltip": null,
            "layout": "IPY_MODEL_eb099ca502134addbfbde0e56b7381da",
            "placeholder": "​",
            "style": "IPY_MODEL_e6856e340b5a49678f8319357e1976da",
            "value": "\n<b>Thank You</b></center>"
          }
        },
        "0698162eb1a84a19a2af45d1a492acef": {
          "model_module": "@jupyter-widgets/base",
          "model_name": "LayoutModel",
          "model_module_version": "1.2.0",
          "state": {
            "_model_module": "@jupyter-widgets/base",
            "_model_module_version": "1.2.0",
            "_model_name": "LayoutModel",
            "_view_count": null,
            "_view_module": "@jupyter-widgets/base",
            "_view_module_version": "1.2.0",
            "_view_name": "LayoutView",
            "align_content": null,
            "align_items": "center",
            "align_self": null,
            "border": null,
            "bottom": null,
            "display": "flex",
            "flex": null,
            "flex_flow": "column",
            "grid_area": null,
            "grid_auto_columns": null,
            "grid_auto_flow": null,
            "grid_auto_rows": null,
            "grid_column": null,
            "grid_gap": null,
            "grid_row": null,
            "grid_template_areas": null,
            "grid_template_columns": null,
            "grid_template_rows": null,
            "height": null,
            "justify_content": null,
            "justify_items": null,
            "left": null,
            "margin": null,
            "max_height": null,
            "max_width": null,
            "min_height": null,
            "min_width": null,
            "object_fit": null,
            "object_position": null,
            "order": null,
            "overflow": null,
            "overflow_x": null,
            "overflow_y": null,
            "padding": null,
            "right": null,
            "top": null,
            "visibility": null,
            "width": "50%"
          }
        },
        "e3fb19e74ce04621bc2b1a5c7dcbd3df": {
          "model_module": "@jupyter-widgets/base",
          "model_name": "LayoutModel",
          "model_module_version": "1.2.0",
          "state": {
            "_model_module": "@jupyter-widgets/base",
            "_model_module_version": "1.2.0",
            "_model_name": "LayoutModel",
            "_view_count": null,
            "_view_module": "@jupyter-widgets/base",
            "_view_module_version": "1.2.0",
            "_view_name": "LayoutView",
            "align_content": null,
            "align_items": null,
            "align_self": null,
            "border": null,
            "bottom": null,
            "display": null,
            "flex": null,
            "flex_flow": null,
            "grid_area": null,
            "grid_auto_columns": null,
            "grid_auto_flow": null,
            "grid_auto_rows": null,
            "grid_column": null,
            "grid_gap": null,
            "grid_row": null,
            "grid_template_areas": null,
            "grid_template_columns": null,
            "grid_template_rows": null,
            "height": null,
            "justify_content": null,
            "justify_items": null,
            "left": null,
            "margin": null,
            "max_height": null,
            "max_width": null,
            "min_height": null,
            "min_width": null,
            "object_fit": null,
            "object_position": null,
            "order": null,
            "overflow": null,
            "overflow_x": null,
            "overflow_y": null,
            "padding": null,
            "right": null,
            "top": null,
            "visibility": null,
            "width": null
          }
        },
        "1449a709e4704682ac2c1af7fe92f927": {
          "model_module": "@jupyter-widgets/controls",
          "model_name": "DescriptionStyleModel",
          "model_module_version": "1.5.0",
          "state": {
            "_model_module": "@jupyter-widgets/controls",
            "_model_module_version": "1.5.0",
            "_model_name": "DescriptionStyleModel",
            "_view_count": null,
            "_view_module": "@jupyter-widgets/base",
            "_view_module_version": "1.2.0",
            "_view_name": "StyleView",
            "description_width": ""
          }
        },
        "9c2db38cff48437f94bf0f5805deb285": {
          "model_module": "@jupyter-widgets/base",
          "model_name": "LayoutModel",
          "model_module_version": "1.2.0",
          "state": {
            "_model_module": "@jupyter-widgets/base",
            "_model_module_version": "1.2.0",
            "_model_name": "LayoutModel",
            "_view_count": null,
            "_view_module": "@jupyter-widgets/base",
            "_view_module_version": "1.2.0",
            "_view_name": "LayoutView",
            "align_content": null,
            "align_items": null,
            "align_self": null,
            "border": null,
            "bottom": null,
            "display": null,
            "flex": null,
            "flex_flow": null,
            "grid_area": null,
            "grid_auto_columns": null,
            "grid_auto_flow": null,
            "grid_auto_rows": null,
            "grid_column": null,
            "grid_gap": null,
            "grid_row": null,
            "grid_template_areas": null,
            "grid_template_columns": null,
            "grid_template_rows": null,
            "height": null,
            "justify_content": null,
            "justify_items": null,
            "left": null,
            "margin": null,
            "max_height": null,
            "max_width": null,
            "min_height": null,
            "min_width": null,
            "object_fit": null,
            "object_position": null,
            "order": null,
            "overflow": null,
            "overflow_x": null,
            "overflow_y": null,
            "padding": null,
            "right": null,
            "top": null,
            "visibility": null,
            "width": null
          }
        },
        "0232d8b450ba48038b4c1347eb4752e2": {
          "model_module": "@jupyter-widgets/controls",
          "model_name": "DescriptionStyleModel",
          "model_module_version": "1.5.0",
          "state": {
            "_model_module": "@jupyter-widgets/controls",
            "_model_module_version": "1.5.0",
            "_model_name": "DescriptionStyleModel",
            "_view_count": null,
            "_view_module": "@jupyter-widgets/base",
            "_view_module_version": "1.2.0",
            "_view_name": "StyleView",
            "description_width": ""
          }
        },
        "8a24be8cac2b4f12a3f2c3bb5e92bad6": {
          "model_module": "@jupyter-widgets/base",
          "model_name": "LayoutModel",
          "model_module_version": "1.2.0",
          "state": {
            "_model_module": "@jupyter-widgets/base",
            "_model_module_version": "1.2.0",
            "_model_name": "LayoutModel",
            "_view_count": null,
            "_view_module": "@jupyter-widgets/base",
            "_view_module_version": "1.2.0",
            "_view_name": "LayoutView",
            "align_content": null,
            "align_items": null,
            "align_self": null,
            "border": null,
            "bottom": null,
            "display": null,
            "flex": null,
            "flex_flow": null,
            "grid_area": null,
            "grid_auto_columns": null,
            "grid_auto_flow": null,
            "grid_auto_rows": null,
            "grid_column": null,
            "grid_gap": null,
            "grid_row": null,
            "grid_template_areas": null,
            "grid_template_columns": null,
            "grid_template_rows": null,
            "height": null,
            "justify_content": null,
            "justify_items": null,
            "left": null,
            "margin": null,
            "max_height": null,
            "max_width": null,
            "min_height": null,
            "min_width": null,
            "object_fit": null,
            "object_position": null,
            "order": null,
            "overflow": null,
            "overflow_x": null,
            "overflow_y": null,
            "padding": null,
            "right": null,
            "top": null,
            "visibility": null,
            "width": null
          }
        },
        "69a10089571d4aabac72a55dcc1d853d": {
          "model_module": "@jupyter-widgets/controls",
          "model_name": "DescriptionStyleModel",
          "model_module_version": "1.5.0",
          "state": {
            "_model_module": "@jupyter-widgets/controls",
            "_model_module_version": "1.5.0",
            "_model_name": "DescriptionStyleModel",
            "_view_count": null,
            "_view_module": "@jupyter-widgets/base",
            "_view_module_version": "1.2.0",
            "_view_name": "StyleView",
            "description_width": ""
          }
        },
        "4fd638e9d7f744ec9a15a2a289d65358": {
          "model_module": "@jupyter-widgets/base",
          "model_name": "LayoutModel",
          "model_module_version": "1.2.0",
          "state": {
            "_model_module": "@jupyter-widgets/base",
            "_model_module_version": "1.2.0",
            "_model_name": "LayoutModel",
            "_view_count": null,
            "_view_module": "@jupyter-widgets/base",
            "_view_module_version": "1.2.0",
            "_view_name": "LayoutView",
            "align_content": null,
            "align_items": null,
            "align_self": null,
            "border": null,
            "bottom": null,
            "display": null,
            "flex": null,
            "flex_flow": null,
            "grid_area": null,
            "grid_auto_columns": null,
            "grid_auto_flow": null,
            "grid_auto_rows": null,
            "grid_column": null,
            "grid_gap": null,
            "grid_row": null,
            "grid_template_areas": null,
            "grid_template_columns": null,
            "grid_template_rows": null,
            "height": null,
            "justify_content": null,
            "justify_items": null,
            "left": null,
            "margin": null,
            "max_height": null,
            "max_width": null,
            "min_height": null,
            "min_width": null,
            "object_fit": null,
            "object_position": null,
            "order": null,
            "overflow": null,
            "overflow_x": null,
            "overflow_y": null,
            "padding": null,
            "right": null,
            "top": null,
            "visibility": null,
            "width": null
          }
        },
        "b433c4c269a04deab9048fd3c2483db8": {
          "model_module": "@jupyter-widgets/controls",
          "model_name": "ButtonStyleModel",
          "model_module_version": "1.5.0",
          "state": {
            "_model_module": "@jupyter-widgets/controls",
            "_model_module_version": "1.5.0",
            "_model_name": "ButtonStyleModel",
            "_view_count": null,
            "_view_module": "@jupyter-widgets/base",
            "_view_module_version": "1.2.0",
            "_view_name": "StyleView",
            "button_color": null,
            "font_weight": ""
          }
        },
        "eb099ca502134addbfbde0e56b7381da": {
          "model_module": "@jupyter-widgets/base",
          "model_name": "LayoutModel",
          "model_module_version": "1.2.0",
          "state": {
            "_model_module": "@jupyter-widgets/base",
            "_model_module_version": "1.2.0",
            "_model_name": "LayoutModel",
            "_view_count": null,
            "_view_module": "@jupyter-widgets/base",
            "_view_module_version": "1.2.0",
            "_view_name": "LayoutView",
            "align_content": null,
            "align_items": null,
            "align_self": null,
            "border": null,
            "bottom": null,
            "display": null,
            "flex": null,
            "flex_flow": null,
            "grid_area": null,
            "grid_auto_columns": null,
            "grid_auto_flow": null,
            "grid_auto_rows": null,
            "grid_column": null,
            "grid_gap": null,
            "grid_row": null,
            "grid_template_areas": null,
            "grid_template_columns": null,
            "grid_template_rows": null,
            "height": null,
            "justify_content": null,
            "justify_items": null,
            "left": null,
            "margin": null,
            "max_height": null,
            "max_width": null,
            "min_height": null,
            "min_width": null,
            "object_fit": null,
            "object_position": null,
            "order": null,
            "overflow": null,
            "overflow_x": null,
            "overflow_y": null,
            "padding": null,
            "right": null,
            "top": null,
            "visibility": null,
            "width": null
          }
        },
        "e6856e340b5a49678f8319357e1976da": {
          "model_module": "@jupyter-widgets/controls",
          "model_name": "DescriptionStyleModel",
          "model_module_version": "1.5.0",
          "state": {
            "_model_module": "@jupyter-widgets/controls",
            "_model_module_version": "1.5.0",
            "_model_name": "DescriptionStyleModel",
            "_view_count": null,
            "_view_module": "@jupyter-widgets/base",
            "_view_module_version": "1.2.0",
            "_view_name": "StyleView",
            "description_width": ""
          }
        },
        "c2175c8a54e0480181fbf1e093f6cc84": {
          "model_module": "@jupyter-widgets/controls",
          "model_name": "LabelModel",
          "model_module_version": "1.5.0",
          "state": {
            "_dom_classes": [],
            "_model_module": "@jupyter-widgets/controls",
            "_model_module_version": "1.5.0",
            "_model_name": "LabelModel",
            "_view_count": null,
            "_view_module": "@jupyter-widgets/controls",
            "_view_module_version": "1.5.0",
            "_view_name": "LabelView",
            "description": "",
            "description_tooltip": null,
            "layout": "IPY_MODEL_249fc842e0be459994c7ab0a31940b24",
            "placeholder": "​",
            "style": "IPY_MODEL_4a898fb69d56428bbbe9e4664aaba9d1",
            "value": "Connecting..."
          }
        },
        "249fc842e0be459994c7ab0a31940b24": {
          "model_module": "@jupyter-widgets/base",
          "model_name": "LayoutModel",
          "model_module_version": "1.2.0",
          "state": {
            "_model_module": "@jupyter-widgets/base",
            "_model_module_version": "1.2.0",
            "_model_name": "LayoutModel",
            "_view_count": null,
            "_view_module": "@jupyter-widgets/base",
            "_view_module_version": "1.2.0",
            "_view_name": "LayoutView",
            "align_content": null,
            "align_items": null,
            "align_self": null,
            "border": null,
            "bottom": null,
            "display": null,
            "flex": null,
            "flex_flow": null,
            "grid_area": null,
            "grid_auto_columns": null,
            "grid_auto_flow": null,
            "grid_auto_rows": null,
            "grid_column": null,
            "grid_gap": null,
            "grid_row": null,
            "grid_template_areas": null,
            "grid_template_columns": null,
            "grid_template_rows": null,
            "height": null,
            "justify_content": null,
            "justify_items": null,
            "left": null,
            "margin": null,
            "max_height": null,
            "max_width": null,
            "min_height": null,
            "min_width": null,
            "object_fit": null,
            "object_position": null,
            "order": null,
            "overflow": null,
            "overflow_x": null,
            "overflow_y": null,
            "padding": null,
            "right": null,
            "top": null,
            "visibility": null,
            "width": null
          }
        },
        "4a898fb69d56428bbbe9e4664aaba9d1": {
          "model_module": "@jupyter-widgets/controls",
          "model_name": "DescriptionStyleModel",
          "model_module_version": "1.5.0",
          "state": {
            "_model_module": "@jupyter-widgets/controls",
            "_model_module_version": "1.5.0",
            "_model_name": "DescriptionStyleModel",
            "_view_count": null,
            "_view_module": "@jupyter-widgets/base",
            "_view_module_version": "1.2.0",
            "_view_name": "StyleView",
            "description_width": ""
          }
        },
        "ada614449bff43a1a28b2b3685a879f9": {
          "model_module": "@jupyter-widgets/controls",
          "model_name": "LabelModel",
          "model_module_version": "1.5.0",
          "state": {
            "_dom_classes": [],
            "_model_module": "@jupyter-widgets/controls",
            "_model_module_version": "1.5.0",
            "_model_name": "LabelModel",
            "_view_count": null,
            "_view_module": "@jupyter-widgets/controls",
            "_view_module_version": "1.5.0",
            "_view_name": "LabelView",
            "description": "",
            "description_tooltip": null,
            "layout": "IPY_MODEL_b8d1268a73614d6f903b157a7fc8390c",
            "placeholder": "​",
            "style": "IPY_MODEL_30abfa8bdb7c46b9a756f705b80e2025",
            "value": "Kaggle credentials successfully validated."
          }
        },
        "b8d1268a73614d6f903b157a7fc8390c": {
          "model_module": "@jupyter-widgets/base",
          "model_name": "LayoutModel",
          "model_module_version": "1.2.0",
          "state": {
            "_model_module": "@jupyter-widgets/base",
            "_model_module_version": "1.2.0",
            "_model_name": "LayoutModel",
            "_view_count": null,
            "_view_module": "@jupyter-widgets/base",
            "_view_module_version": "1.2.0",
            "_view_name": "LayoutView",
            "align_content": null,
            "align_items": null,
            "align_self": null,
            "border": null,
            "bottom": null,
            "display": null,
            "flex": null,
            "flex_flow": null,
            "grid_area": null,
            "grid_auto_columns": null,
            "grid_auto_flow": null,
            "grid_auto_rows": null,
            "grid_column": null,
            "grid_gap": null,
            "grid_row": null,
            "grid_template_areas": null,
            "grid_template_columns": null,
            "grid_template_rows": null,
            "height": null,
            "justify_content": null,
            "justify_items": null,
            "left": null,
            "margin": null,
            "max_height": null,
            "max_width": null,
            "min_height": null,
            "min_width": null,
            "object_fit": null,
            "object_position": null,
            "order": null,
            "overflow": null,
            "overflow_x": null,
            "overflow_y": null,
            "padding": null,
            "right": null,
            "top": null,
            "visibility": null,
            "width": null
          }
        },
        "30abfa8bdb7c46b9a756f705b80e2025": {
          "model_module": "@jupyter-widgets/controls",
          "model_name": "DescriptionStyleModel",
          "model_module_version": "1.5.0",
          "state": {
            "_model_module": "@jupyter-widgets/controls",
            "_model_module_version": "1.5.0",
            "_model_name": "DescriptionStyleModel",
            "_view_count": null,
            "_view_module": "@jupyter-widgets/base",
            "_view_module_version": "1.2.0",
            "_view_name": "StyleView",
            "description_width": ""
          }
        }
      }
    }
  },
  "nbformat_minor": 0,
  "nbformat": 4,
  "cells": [
    {
      "cell_type": "markdown",
      "metadata": {
        "id": "view-in-github",
        "colab_type": "text"
      },
      "source": [
        "<a href=\"https://colab.research.google.com/github/Shubhranshu331/Graph-Neural-Networks-for-Survival-Prediction/blob/main/Graph_Neural_Networks_for_Survival_Prediction.ipynb\" target=\"_parent\"><img src=\"https://colab.research.google.com/assets/colab-badge.svg\" alt=\"Open In Colab\"/></a>"
      ]
    },
    {
      "source": [
        "# IMPORTANT: SOME KAGGLE DATA SOURCES ARE PRIVATE\n",
        "# RUN THIS CELL IN ORDER TO IMPORT YOUR KAGGLE DATA SOURCES.\n",
        "import kagglehub\n",
        "kagglehub.login()\n"
      ],
      "metadata": {
        "id": "OIp0ows9NgGK",
        "outputId": "d638c1ce-b638-424e-81c9-69222ff9bbf0",
        "colab": {
          "base_uri": "https://localhost:8080/",
          "height": 84,
          "referenced_widgets": [
            "c6ddedf1f1f14982908f1806fd2e3b06",
            "18d89ddd787649e6942498ad9dea064f",
            "2eb84242e2694a658313dabfdd007729",
            "224cac29cd254b4ca62957601a7a1de6",
            "f6087e38549b40298cfcd4bc9e87bd40",
            "c996ea1ffe9c42c494652fc260cc1c9d",
            "0698162eb1a84a19a2af45d1a492acef",
            "e3fb19e74ce04621bc2b1a5c7dcbd3df",
            "1449a709e4704682ac2c1af7fe92f927",
            "9c2db38cff48437f94bf0f5805deb285",
            "0232d8b450ba48038b4c1347eb4752e2",
            "8a24be8cac2b4f12a3f2c3bb5e92bad6",
            "69a10089571d4aabac72a55dcc1d853d",
            "4fd638e9d7f744ec9a15a2a289d65358",
            "b433c4c269a04deab9048fd3c2483db8",
            "eb099ca502134addbfbde0e56b7381da",
            "e6856e340b5a49678f8319357e1976da",
            "c2175c8a54e0480181fbf1e093f6cc84",
            "249fc842e0be459994c7ab0a31940b24",
            "4a898fb69d56428bbbe9e4664aaba9d1",
            "ada614449bff43a1a28b2b3685a879f9",
            "b8d1268a73614d6f903b157a7fc8390c",
            "30abfa8bdb7c46b9a756f705b80e2025"
          ]
        }
      },
      "cell_type": "code",
      "outputs": [
        {
          "output_type": "display_data",
          "data": {
            "text/plain": [
              "VBox(children=(HTML(value='<center> <img\\nsrc=https://www.kaggle.com/static/images/site-logo.png\\nalt=\\'Kaggle…"
            ],
            "application/vnd.jupyter.widget-view+json": {
              "version_major": 2,
              "version_minor": 0,
              "model_id": "c6ddedf1f1f14982908f1806fd2e3b06"
            }
          },
          "metadata": {}
        },
        {
          "output_type": "stream",
          "name": "stdout",
          "text": [
            "Kaggle credentials set.\n",
            "Kaggle credentials successfully validated.\n"
          ]
        }
      ],
      "execution_count": 1
    },
    {
      "source": [
        "# IMPORTANT: RUN THIS CELL IN ORDER TO IMPORT YOUR KAGGLE DATA SOURCES,\n",
        "# THEN FEEL FREE TO DELETE THIS CELL.\n",
        "# NOTE: THIS NOTEBOOK ENVIRONMENT DIFFERS FROM KAGGLE'S PYTHON\n",
        "# ENVIRONMENT SO THERE MAY BE MISSING LIBRARIES USED BY YOUR\n",
        "# NOTEBOOK.\n",
        "\n",
        "titanic_path = kagglehub.competition_download('titanic')\n",
        "\n",
        "print('Data source import complete.')\n"
      ],
      "metadata": {
        "id": "el4alafJNgGP",
        "outputId": "fdf6f5c6-f771-40db-97a3-e904fe65f01f",
        "colab": {
          "base_uri": "https://localhost:8080/"
        }
      },
      "cell_type": "code",
      "outputs": [
        {
          "output_type": "stream",
          "name": "stdout",
          "text": [
            "Downloading from https://www.kaggle.com/api/v1/competitions/data/download-all/titanic...\n"
          ]
        },
        {
          "output_type": "stream",
          "name": "stderr",
          "text": [
            "100%|██████████| 34.1k/34.1k [00:00<00:00, 25.8MB/s]"
          ]
        },
        {
          "output_type": "stream",
          "name": "stdout",
          "text": [
            "Extracting files...\n",
            "Data source import complete.\n"
          ]
        },
        {
          "output_type": "stream",
          "name": "stderr",
          "text": [
            "\n"
          ]
        }
      ],
      "execution_count": 3
    },
    {
      "cell_type": "markdown",
      "source": [
        "# Graph Neural Networks for Survival Prediction: A Novel Biostatistical Approach to the Titanic Dataset\n",
        "\n",
        "The Titanic dataset is a classic dataset for binary classification (predicting survival: 0 or 1) and has direct relevance to biostatistics, particularly in the domain of survival analysis. Biostatistics applies statistical methods to biological and medical data, often focusing on outcomes like survival, disease progression, or treatment efficacy. Here’s why this project aligns with biostatistical goals:\n",
        "\n",
        "- Survival Analysis Context: The Titanic dataset involves predicting whether passengers survived the disaster based on features like age, sex, and passenger class. This mirrors survival analysis tasks in biostatistics, where the outcome is a binary event (e.g., survival vs. death). The dataset has been referenced in biostatistical contexts, such as by the Vanderbilt University Department of Biostatistics.\n",
        "- Population-Level Insights: By using a GNN, the project models passengers as nodes in a graph, with edges representing similarity in characteristics. This approach captures relational patterns (e.g., whether passengers with similar profiles had correlated survival outcomes), which is valuable in biostatistics for understanding population dynamics, such as in epidemiological studies or clinical trials.\n",
        "- Innovative Methodology: Traditional biostatistical models for survival analysis (e.g., logistic regression, Cox proportional hazards) treat observations as independent. The GNN’s graph-based approach introduces a novel perspective by modeling dependencies between individuals, potentially revealing insights into group-level factors affecting survival (e.g., access to lifeboats based on class or gender)."
      ],
      "metadata": {
        "id": "9SnU72VdNgGR"
      }
    },
    {
      "cell_type": "markdown",
      "source": [
        "## 1. Installing Dependencies\n",
        "Installs the <span style=\"color:orange\">torch-geometric</span> library, which is required for implementing the GCN model. This library is not pre-installed in Kaggle notebooks, so it must be installed at runtime.\n",
        "- <span style=\"color:orange\">torch-geometric</span> provides tools for graph-based deep learning, including the <span style=\"color:orange\">GCNConv</span> layer used in the model.\n",
        "\n",
        "Enables the use of advanced graph neural network techniques, which are central to the project’s unique approach."
      ],
      "metadata": {
        "id": "j3HWVtBjNgGW"
      }
    },
    {
      "cell_type": "code",
      "source": [
        "!pip install torch-geometric"
      ],
      "metadata": {
        "_uuid": "051d70d956493feee0c6d64651c6a088724dca2a",
        "_execution_state": "idle",
        "trusted": true,
        "execution": {
          "iopub.status.busy": "2025-05-11T23:48:01.645272Z",
          "iopub.execute_input": "2025-05-11T23:48:01.645921Z",
          "iopub.status.idle": "2025-05-11T23:48:04.629576Z",
          "shell.execute_reply.started": "2025-05-11T23:48:01.645898Z",
          "shell.execute_reply": "2025-05-11T23:48:04.628617Z"
        },
        "id": "YaCdIeXRNgGX",
        "outputId": "a7aae995-d7c9-4825-8f80-faa3b80ba624",
        "colab": {
          "base_uri": "https://localhost:8080/"
        }
      },
      "outputs": [
        {
          "output_type": "stream",
          "name": "stdout",
          "text": [
            "Collecting torch-geometric\n",
            "  Downloading torch_geometric-2.6.1-py3-none-any.whl.metadata (63 kB)\n",
            "\u001b[?25l     \u001b[90m━━━━━━━━━━━━━━━━━━━━━━━━━━━━━━━━━━━━━━━━\u001b[0m \u001b[32m0.0/63.1 kB\u001b[0m \u001b[31m?\u001b[0m eta \u001b[36m-:--:--\u001b[0m\r\u001b[2K     \u001b[90m━━━━━━━━━━━━━━━━━━━━━━━━━━━━━━━━━━━━━━━━\u001b[0m \u001b[32m63.1/63.1 kB\u001b[0m \u001b[31m1.7 MB/s\u001b[0m eta \u001b[36m0:00:00\u001b[0m\n",
            "\u001b[?25hRequirement already satisfied: aiohttp in /usr/local/lib/python3.11/dist-packages (from torch-geometric) (3.11.15)\n",
            "Requirement already satisfied: fsspec in /usr/local/lib/python3.11/dist-packages (from torch-geometric) (2025.3.2)\n",
            "Requirement already satisfied: jinja2 in /usr/local/lib/python3.11/dist-packages (from torch-geometric) (3.1.6)\n",
            "Requirement already satisfied: numpy in /usr/local/lib/python3.11/dist-packages (from torch-geometric) (2.0.2)\n",
            "Requirement already satisfied: psutil>=5.8.0 in /usr/local/lib/python3.11/dist-packages (from torch-geometric) (5.9.5)\n",
            "Requirement already satisfied: pyparsing in /usr/local/lib/python3.11/dist-packages (from torch-geometric) (3.2.3)\n",
            "Requirement already satisfied: requests in /usr/local/lib/python3.11/dist-packages (from torch-geometric) (2.32.3)\n",
            "Requirement already satisfied: tqdm in /usr/local/lib/python3.11/dist-packages (from torch-geometric) (4.67.1)\n",
            "Requirement already satisfied: aiohappyeyeballs>=2.3.0 in /usr/local/lib/python3.11/dist-packages (from aiohttp->torch-geometric) (2.6.1)\n",
            "Requirement already satisfied: aiosignal>=1.1.2 in /usr/local/lib/python3.11/dist-packages (from aiohttp->torch-geometric) (1.3.2)\n",
            "Requirement already satisfied: attrs>=17.3.0 in /usr/local/lib/python3.11/dist-packages (from aiohttp->torch-geometric) (25.3.0)\n",
            "Requirement already satisfied: frozenlist>=1.1.1 in /usr/local/lib/python3.11/dist-packages (from aiohttp->torch-geometric) (1.6.0)\n",
            "Requirement already satisfied: multidict<7.0,>=4.5 in /usr/local/lib/python3.11/dist-packages (from aiohttp->torch-geometric) (6.4.3)\n",
            "Requirement already satisfied: propcache>=0.2.0 in /usr/local/lib/python3.11/dist-packages (from aiohttp->torch-geometric) (0.3.1)\n",
            "Requirement already satisfied: yarl<2.0,>=1.17.0 in /usr/local/lib/python3.11/dist-packages (from aiohttp->torch-geometric) (1.20.0)\n",
            "Requirement already satisfied: MarkupSafe>=2.0 in /usr/local/lib/python3.11/dist-packages (from jinja2->torch-geometric) (3.0.2)\n",
            "Requirement already satisfied: charset-normalizer<4,>=2 in /usr/local/lib/python3.11/dist-packages (from requests->torch-geometric) (3.4.2)\n",
            "Requirement already satisfied: idna<4,>=2.5 in /usr/local/lib/python3.11/dist-packages (from requests->torch-geometric) (3.10)\n",
            "Requirement already satisfied: urllib3<3,>=1.21.1 in /usr/local/lib/python3.11/dist-packages (from requests->torch-geometric) (2.4.0)\n",
            "Requirement already satisfied: certifi>=2017.4.17 in /usr/local/lib/python3.11/dist-packages (from requests->torch-geometric) (2025.4.26)\n",
            "Downloading torch_geometric-2.6.1-py3-none-any.whl (1.1 MB)\n",
            "\u001b[2K   \u001b[90m━━━━━━━━━━━━━━━━━━━━━━━━━━━━━━━━━━━━━━━━\u001b[0m \u001b[32m1.1/1.1 MB\u001b[0m \u001b[31m17.6 MB/s\u001b[0m eta \u001b[36m0:00:00\u001b[0m\n",
            "\u001b[?25hInstalling collected packages: torch-geometric\n",
            "Successfully installed torch-geometric-2.6.1\n"
          ]
        }
      ],
      "execution_count": 4
    },
    {
      "cell_type": "markdown",
      "source": [
        "## 2. Importing Libraries\n",
        "- Data Manipulation:\n",
        "  - <span style=\"color:orange\">pandas (pd):</span> Handles the Titanic dataset as a DataFrame for loading and preprocessing.\n",
        "  - <span style=\"color:orange\">numpy (np):</span> Supports numerical operations, such as array manipulation.\n",
        "- Preprocessing:\n",
        "  - <span style=\"color:orange\">sklearn.preprocessing.StandardScaler:</span> Standardizes features to have zero mean and unit variance, crucial for distance-based graph construction.\n",
        "  - <span style=\"color:orange\">sklearn.model_selection.train_test_split:</span> Splits data into training and validation sets.\n",
        "  - <span style=\"color:orange\">sklearn.metrics.pairwise_distances:</span> Computes pairwise distances between passengers for graph construction.\n",
        "- Deep Learning:\n",
        "  - <span style=\"color:orange\">torch:</span> PyTorch library for tensor operations and neural network implementation.\n",
        "  - <span style=\"color:orange\">torch.nn.functional (F):</span> Provides activation functions (e.g., ReLU) and loss functions.\n",
        "- Graph Neural Networks:\n",
        "  - <span style=\"color:orange\">torch_geometric.data.Data:</span> Creates a graph data object for GNN processing.\n",
        "  - <span style=\"color:orange\">torch_geometric.nn.GCNConv:</span> Implements graph convolutional layers for the GCN model."
      ],
      "metadata": {
        "id": "VLHqBp9DNgGc"
      }
    },
    {
      "cell_type": "code",
      "source": [
        "import pandas as pd\n",
        "import numpy as np\n",
        "from sklearn.preprocessing import StandardScaler\n",
        "from sklearn.model_selection import train_test_split\n",
        "from sklearn.metrics.pairwise import pairwise_distances\n",
        "import torch\n",
        "import torch.nn.functional as F\n",
        "from torch_geometric.data import Data\n",
        "from torch_geometric.nn import GCNConv\n",
        "import matplotlib.pyplot as plt\n",
        "import seaborn as sns\n",
        "from sklearn.metrics import f1_score, confusion_matrix, roc_curve, auc"
      ],
      "metadata": {
        "trusted": true,
        "execution": {
          "iopub.status.busy": "2025-05-11T23:48:04.631858Z",
          "iopub.execute_input": "2025-05-11T23:48:04.632567Z",
          "iopub.status.idle": "2025-05-11T23:48:04.637403Z",
          "shell.execute_reply.started": "2025-05-11T23:48:04.632542Z",
          "shell.execute_reply": "2025-05-11T23:48:04.6368Z"
        },
        "id": "2cwGDCHLNgGd"
      },
      "outputs": [],
      "execution_count": null
    },
    {
      "cell_type": "markdown",
      "source": [
        "## 3. Loading the Dataset\n",
        "The dataset is stored in <span style=\"color:orange\">/kaggle/input/titanic/train.csv</span>, as added via Kaggle’s data interface.\n",
        "- <span style=\"color:orange\">pandas.read_csv</span> reads the CSV file into a DataFrame with 891 rows and 12 columns: <span style=\"color:orange\">PassengerId, Survived, Pclass, Name, Sex, Age, SibSp, Parch, Ticket, Fare, Cabin, and Embarked.</span>\n",
        "\n",
        "The <span style=\"color:orange\">Survived</span> column is the target variable (0 = did not survive, 1 = survived), and other columns are potential features."
      ],
      "metadata": {
        "id": "GxadWKYnNgGf"
      }
    },
    {
      "cell_type": "code",
      "source": [
        "train = pd.read_csv('/kaggle/input/titanic/train.csv')"
      ],
      "metadata": {
        "trusted": true,
        "execution": {
          "iopub.status.busy": "2025-05-11T23:48:04.638041Z",
          "iopub.execute_input": "2025-05-11T23:48:04.638255Z",
          "iopub.status.idle": "2025-05-11T23:48:04.70754Z",
          "shell.execute_reply.started": "2025-05-11T23:48:04.638239Z",
          "shell.execute_reply": "2025-05-11T23:48:04.706872Z"
        },
        "id": "38j5xjQBNgGh"
      },
      "outputs": [],
      "execution_count": null
    },
    {
      "cell_type": "markdown",
      "source": [
        "## 4. Handling Missing Values\n",
        "- Embarked:\n",
        "    - <span style=\"color:orange\">Embarked</span> (port of embarkation: C, Q, S) has 2 missing values.\n",
        "    - <span style=\"color:orange\">mode()[0]</span> finds the most common value (‘S’).\n",
        "    - <span style=\"color:orange\">fillna</span> replaces missing values with ‘S’.\n",
        "- Age:\n",
        "    - <span style=\"color:orange\">Age</span> has 177 missing values (about 20% of the dataset).\n",
        "    - <span style=\"color:orange\">mean()</span> computes the average age (approximately 29.7 years).\n",
        "    - <span style=\"color:orange\">fillna</span> replaces missing values with the mean age.\n",
        "- <span style=\"color:orange\">inplace=True</span> modifies the DataFrame directly to avoid creating a copy."
      ],
      "metadata": {
        "id": "NOTnzBYNNgGj"
      }
    },
    {
      "cell_type": "code",
      "source": [
        "most_common_embarked = train['Embarked'].mode()[0]\n",
        "# train['Embarked'].fillna(most_common_embarked, inplace=True)\n",
        "train['Embarked'] = train['Embarked'].fillna(most_common_embarked)\n",
        "mean_age = train['Age'].mean()\n",
        "# train['Age'].fillna(mean_age, inplace=True)\n",
        "train['Age'] = train['Age'].fillna(mean_age)"
      ],
      "metadata": {
        "trusted": true,
        "execution": {
          "iopub.status.busy": "2025-05-11T23:48:04.709461Z",
          "iopub.execute_input": "2025-05-11T23:48:04.709834Z",
          "iopub.status.idle": "2025-05-11T23:48:04.715988Z",
          "shell.execute_reply.started": "2025-05-11T23:48:04.709816Z",
          "shell.execute_reply": "2025-05-11T23:48:04.715295Z"
        },
        "id": "hZ0TmewFNgGk"
      },
      "outputs": [],
      "execution_count": null
    },
    {
      "cell_type": "markdown",
      "source": [
        "## 5. Encoding Categorical Variables\n",
        "- Sex:\n",
        "    - <span style=\"color:orange\">Sex</span> (male, female) is binary and mapped to 0 (male) or 1 (female) using <span style=\"color:orange\">map</span>.\n",
        "- Embarked:\n",
        "    - <span style=\"color:orange\">Embarked</span> (C, Q, S) is one-hot encoded using <span style=\"color:orange\">pd.get_dummies</span>, creating three binary columns: <span style=\"color:orange\">Embarked_C, Embarked_Q, Embarked_S</span>.\n",
        "    - The original <span style=\"color:orange\">Embarked</span> column is dropped.\n",
        "- Pclass:\n",
        "    - <span style=\"color:orange\">Pclass</span> (1, 2, 3) is one-hot encoded into <span style=\"color:orange\">Pclass_1, Pclass_2, Pclass_3</span>.\n",
        "    - The original <span style=\"color:orange\">Pclass</span> column is dropped.\n",
        "    - <span style=\"color:orange\">pd.concat</span> combines the new dummy columns with the DataFrame, and <span style=\"color:orange\">axis=1</span> ensures concatenation along columns.\n",
        "\n",
        "Machine learning models, including GNNs, require numerical inputs. One-hot encoding preserves the categorical nature of <span style=\"color:orange\">Embarked</span> and <span style=\"color:orange\">Pclass</span> without implying ordinality, while binary encoding for <span style=\"color:orange\">Sex</span> is efficient. This step prepares the data for feature standardization and graph construction."
      ],
      "metadata": {
        "id": "N93CMLZ-NgGl"
      }
    },
    {
      "cell_type": "code",
      "source": [
        "train['Sex'] = train['Sex'].map({'male': 0, 'female': 1})\n",
        "embarked_dummies = pd.get_dummies(train['Embarked'], prefix='Embarked')\n",
        "train = pd.concat([train, embarked_dummies], axis=1)\n",
        "train.drop('Embarked', axis=1, inplace=True)\n",
        "pclass_dummies = pd.get_dummies(train['Pclass'], prefix='Pclass')\n",
        "train = pd.concat([train, pclass_dummies], axis=1)\n",
        "train.drop('Pclass', axis=1, inplace=True)"
      ],
      "metadata": {
        "trusted": true,
        "execution": {
          "iopub.status.busy": "2025-05-11T23:48:04.71672Z",
          "iopub.execute_input": "2025-05-11T23:48:04.716935Z",
          "iopub.status.idle": "2025-05-11T23:48:04.739026Z",
          "shell.execute_reply.started": "2025-05-11T23:48:04.716918Z",
          "shell.execute_reply": "2025-05-11T23:48:04.738506Z"
        },
        "id": "lfweF3q1NgGl"
      },
      "outputs": [],
      "execution_count": null
    },
    {
      "cell_type": "markdown",
      "source": [
        "## 6. Dropping Irrelevant Columns\n",
        "Removes columns that are not useful for modeling due to irrelevance or high missingness.\n",
        "- PassengerId: A unique identifier with no predictive value.\n",
        "- Name: Contains passenger names, which are not directly useful without feature engineering (e.g., extracting titles).\n",
        "- Ticket: Ticket numbers are mostly unique and lack clear predictive patterns.\n",
        "- Cabin: Has 687 missing values (77% missing) and is too sparse to use effectively.\n",
        "- <span style=\"color:orange\">axis=1</span> specifies column-wise dropping, and <span style=\"color:orange\">inplace=True</span> modifies the DataFrame.\n",
        "\n",
        "Simplifies the dataset to focus on predictive features (<span style=\"color:orange\">Age, SibSp, Parch, Fare, Sex, Pclass_1, Pclass_2, Pclass_3, Embarked_C, Embarked_Q, Embarked_S</span>), reducing noise and computational complexity."
      ],
      "metadata": {
        "id": "xatBKpEBNgGm"
      }
    },
    {
      "cell_type": "code",
      "source": [
        "train.drop(['PassengerId', 'Name', 'Ticket', 'Cabin'], axis=1, inplace=True)"
      ],
      "metadata": {
        "trusted": true,
        "execution": {
          "iopub.status.busy": "2025-05-11T23:48:04.739703Z",
          "iopub.execute_input": "2025-05-11T23:48:04.740036Z",
          "iopub.status.idle": "2025-05-11T23:48:04.746198Z",
          "shell.execute_reply.started": "2025-05-11T23:48:04.740007Z",
          "shell.execute_reply": "2025-05-11T23:48:04.745689Z"
        },
        "id": "Q3yOkoRwNgGm"
      },
      "outputs": [],
      "execution_count": null
    },
    {
      "cell_type": "markdown",
      "source": [
        "## 7. Defining Features and Target\n",
        "Separates the feature matrix (<span style=\"color:orange\">X</span>) from the target variable (<span style=\"color:orange\">y</span>).\n",
        "- <span style=\"color:orange\">X</span>: Contains all columns except <span style=\"color:orange\">Survived</span>, resulting in an 891 x 11 matrix (11 features).\n",
        "- <span style=\"color:orange\">y</span>: The <span style=\"color:orange\">Survived</span> column, a binary vector (0 or 1) with 891 entries.\n",
        "- <span style=\"color:orange\">drop(axis=1)</span> removes the <span style=\"color:orange\">Survived</span> column from the DataFrame to create <span style=\"color:orange\">X</span>.\n",
        "\n",
        "Clearly defines the inputs (<span style=\"color:orange\">X</span>) and outputs (<span style=\"color:orange\">y</span>) for the machine learning model, a standard step in supervised learning tasks like survival prediction."
      ],
      "metadata": {
        "id": "MEqHYPAoNgGm"
      }
    },
    {
      "cell_type": "code",
      "source": [
        "X = train.drop('Survived', axis=1)\n",
        "y = train['Survived']"
      ],
      "metadata": {
        "trusted": true,
        "execution": {
          "iopub.status.busy": "2025-05-11T23:48:04.746775Z",
          "iopub.execute_input": "2025-05-11T23:48:04.746941Z",
          "iopub.status.idle": "2025-05-11T23:48:04.76624Z",
          "shell.execute_reply.started": "2025-05-11T23:48:04.74692Z",
          "shell.execute_reply": "2025-05-11T23:48:04.765715Z"
        },
        "id": "1zrTui-hNgGm"
      },
      "outputs": [],
      "execution_count": null
    },
    {
      "cell_type": "markdown",
      "source": [
        "## 8. Standardizing Features\n",
        "Standardizes the features to have zero mean and unit variance, ensuring consistent scales for distance calculations.\n",
        "- <span style=\"color:orange\">StandardScaler</span> computes the mean and standard deviation for each feature and transforms the data using <span style=\"color:orange\">(x - mean) / std</span>.\n",
        "- <span style=\"color:orange\">fit_transform</span> fits the scaler to <span style=\"color:orange\">X</span> and transforms it in one step, producing <span style=\"color:orange\">X_scaled</span> (an 891 x 11 NumPy array).\n",
        "- Standardization is critical because features like <span style=\"color:orange\">Age</span> (range: 0-80) and <span style=\"color:orange\">Fare</span> (range: 0-512) have different scales, which could skew distance-based graph construction.\n",
        "\n",
        "Ensures that all features contribute equally to the Euclidean distance calculations used to build the graph, improving the quality of the GNN’s relational modeling."
      ],
      "metadata": {
        "id": "8umJsk_4NgGn"
      }
    },
    {
      "cell_type": "code",
      "source": [
        "scaler = StandardScaler()\n",
        "X_scaled = scaler.fit_transform(X)"
      ],
      "metadata": {
        "trusted": true,
        "execution": {
          "iopub.status.busy": "2025-05-11T23:48:04.76686Z",
          "iopub.execute_input": "2025-05-11T23:48:04.767044Z",
          "iopub.status.idle": "2025-05-11T23:48:04.790575Z",
          "shell.execute_reply.started": "2025-05-11T23:48:04.767029Z",
          "shell.execute_reply": "2025-05-11T23:48:04.789887Z"
        },
        "id": "69r22HKUNgGn"
      },
      "outputs": [],
      "execution_count": null
    },
    {
      "cell_type": "markdown",
      "source": [
        "## 9. Splitting Train and Validation Sets\n",
        "Splits the dataset into 80% training and 20% validation sets to evaluate model performance.\n",
        "- <span style=\"color:orange\">train_test_split</span> splits the indices (0 to 890) into training (<span style=\"color:orange\">train_idx</span>) and validation (<span style=\"color:orange\">val_idx</span>) sets.\n",
        "- <span style=\"color:orange\">test_size=0.2</span> allocates 20% (179 samples) for validation and 80% (712 samples) for training.\n",
        "- <span style=\"color:orange\">random_state=42</span> ensures reproducibility.\n",
        "- <span style=\"color:orange\">stratify=y</span> maintains the proportion of <span style=\"color:orange\">Survived</span> classes (approximately 38% survived) in both sets.\n",
        "\n",
        "Allows the model to train on a subset of the data and evaluate generalization on unseen data, a key practice in machine learning to prevent overfitting."
      ],
      "metadata": {
        "id": "WEWpT_9aNgGn"
      }
    },
    {
      "cell_type": "code",
      "source": [
        "train_idx, val_idx = train_test_split(range(len(X)), test_size=0.2, random_state=42, stratify=y)\n",
        "print(f\"Train set size: {len(train_idx)}, Validation set size: {len(val_idx)}\")"
      ],
      "metadata": {
        "trusted": true,
        "execution": {
          "iopub.status.busy": "2025-05-11T23:48:04.791369Z",
          "iopub.execute_input": "2025-05-11T23:48:04.791655Z",
          "iopub.status.idle": "2025-05-11T23:48:04.80651Z",
          "shell.execute_reply.started": "2025-05-11T23:48:04.791639Z",
          "shell.execute_reply": "2025-05-11T23:48:04.805817Z"
        },
        "id": "KyKjdQ5lNgGq"
      },
      "outputs": [],
      "execution_count": null
    },
    {
      "cell_type": "markdown",
      "source": [
        "## 10. Constructing the Graph\n",
        "Builds a graph where passengers are nodes, and edges connect each passenger to their 5 most similar peers based on feature similarity.\n",
        "- Distance Calculation:\n",
        "    - <span style=\"color:orange\">pairwise_distances(X_scaled)</span> computes Euclidean distances between all pairs of passengers, producing an 891 x 891 matrix.\n",
        "- K-Nearest Neighbors:\n",
        "    - <span style=\"color:orange\">np.argsort(distances, axis=1)</span> sorts distances for each passenger.\n",
        "    - <span style=\"color:orange\">[:, 1:k+1]</span> selects the indices of the 5 closest neighbors (excluding the passenger themselves, hence <span style=\"color:orange\">1:k+1</span>).\n",
        "    - <span style=\"color:orange\">knn_indices</span> is an 891 x 5 array of neighbor indices.\n",
        "- Edge List:\n",
        "    - The loop creates edges by pairing each passenger (<span style=\"color:orange\">i</span>) with their neighbors (<span style=\"color:orange\">j</span>).\n",
        "    - Both <span style=\"color:orange\">[i, j]</span> and <span style=\"color:orange\">[j, i]</span> are added to make the graph undirected.\n",
        "    - <span style=\"color:orange\">edges</span> is a list of edge pairs.\n",
        "- Remove Duplicates:\n",
        "    - <span style=\"color:orange\">np.unique(np.array(edges), axis=0)</span> removes duplicate edges (e.g., [i, j] and [j, i] are equivalent in an undirected graph).\n",
        "\n",
        "The graph structure is the core of the GNN, enabling the model to learn from relational patterns (e.g., passengers with similar ages or classes may have correlated survival outcomes). This relational approach is novel for the Titanic dataset and aligns with biostatistical interest in population-level interactions."
      ],
      "metadata": {
        "id": "MVgm7rvSNgGq"
      }
    },
    {
      "cell_type": "code",
      "source": [
        "distances = pairwise_distances(X_scaled)\n",
        "k = 5\n",
        "knn_indices = np.argsort(distances, axis=1)[:, 1:k+1]\n",
        "edges = []\n",
        "for i in range(len(X)):\n",
        "    for j in knn_indices[i]:\n",
        "        edges.append([i, j])\n",
        "        edges.append([j, i])\n",
        "edges = np.unique(np.array(edges), axis=0)"
      ],
      "metadata": {
        "trusted": true,
        "execution": {
          "iopub.status.busy": "2025-05-11T23:48:04.808606Z",
          "iopub.execute_input": "2025-05-11T23:48:04.808768Z",
          "iopub.status.idle": "2025-05-11T23:48:04.878457Z",
          "shell.execute_reply.started": "2025-05-11T23:48:04.808755Z",
          "shell.execute_reply": "2025-05-11T23:48:04.877946Z"
        },
        "id": "PlcHzLwBNgGr"
      },
      "outputs": [],
      "execution_count": null
    },
    {
      "cell_type": "markdown",
      "source": [
        "## 11. Creating the PyTorch Geometric Data Object\n",
        "Converts the data into a <span style=\"color:orange\">Data</span> object compatible with PyTorch Geometric for GNN training.\n",
        "- Node Features:\n",
        "    - <span style=\"color:orange\">x = torch.tensor(X_scaled, dtype=torch.float)</span> converts the standardized features (891 x 11) to a PyTorch tensor.\n",
        "- Edge Index:\n",
        "    - <span style=\"color:orange\">edge_index = torch.tensor(edges.T, dtype=torch.long)</span> converts the edge list to a 2 x M tensor, where M is the number of unique edges. The first row contains source nodes, and the second row contains target nodes.\n",
        "- Labels:\n",
        "    - <span style=\"color:orange\">y_torch = torch.tensor(y.values, dtype=torch.long)</span> converts the <span style=\"color:orange\">Survived</span> labels to a tensor of integers (0 or 1).\n",
        "- Masks:\n",
        "    - <span style=\"color:orange\">train_mask</span> and <span style=\"color:orange\">val_mask</span> are boolean tensors (length 891) initialized to <span style=\"color:orange\">False</span>.\n",
        "    - <span style=\"color:orange\">train_mask[train_idx] = True</span> sets <span style=\"color:orange\">True</span> for training indices.\n",
        "    - <span style=\"color:orange\">val_mask[val_idx] = True</span> sets <span style=\"color:orange\">True</span> for validation indices.\n",
        "- Data Object:\n",
        "    - <span style=\"color:orange\">Data</span> combines <span style=\"color:orange\">x, edge_index, y, train_mask,</span> and <span style=\"color:orange\">val_mask</span> into a single object for GNN processing.\n",
        "\n",
        "The <span style=\"color:orange\">Data</span> object encapsulates the graph structure and data needed for the GCN, enabling efficient graph-based learning. The masks ensure the model trains and evaluates on the correct subsets."
      ],
      "metadata": {
        "id": "APac7KPnNgGr"
      }
    },
    {
      "cell_type": "code",
      "source": [
        "x = torch.tensor(X_scaled, dtype=torch.float)\n",
        "edge_index = torch.tensor(edges.T, dtype=torch.long)\n",
        "y_torch = torch.tensor(y.values, dtype=torch.long)\n",
        "train_mask = torch.zeros(len(X), dtype=torch.bool)\n",
        "train_mask[train_idx] = True\n",
        "val_mask = torch.zeros(len(X), dtype=torch.bool)\n",
        "val_mask[val_idx] = True\n",
        "data = Data(x=x, edge_index=edge_index, y=y_torch, train_mask=train_mask, val_mask=val_mask)\n",
        "print(f\"Train mask sum: {data.train_mask.sum().item()}, Val mask sum: {data.val_mask.sum().item()}\")"
      ],
      "metadata": {
        "trusted": true,
        "execution": {
          "iopub.status.busy": "2025-05-11T23:48:04.879055Z",
          "iopub.execute_input": "2025-05-11T23:48:04.879313Z",
          "iopub.status.idle": "2025-05-11T23:48:04.886416Z",
          "shell.execute_reply.started": "2025-05-11T23:48:04.879288Z",
          "shell.execute_reply": "2025-05-11T23:48:04.885724Z"
        },
        "id": "NiTNvZTqNgGr"
      },
      "outputs": [],
      "execution_count": null
    },
    {
      "cell_type": "markdown",
      "source": [
        "## 12. Defining the GCN Model\n",
        "Defines a two-layer Graph Convolutional Network to predict survival probabilities.\n",
        "- Class Definition:\n",
        "    - <span style=\"color:orange\">GCN</span> inherits from <span style=\"color:orange\">torch.nn.Module</span>, the base class for PyTorch models.\n",
        "- Initialization:\n",
        "    - <span style=\"color:orange\">input_dim</span>: Number of input features (11).\n",
        "    - <span style=\"color:orange\">hidden_dim</span>: Size of the hidden layer (16).\n",
        "    - <span style=\"color:orange\">output_dim</span>: Number of output classes (2: survive or not).\n",
        "    - <span style=\"color:orange\">conv1</span>: First GCN layer, mapping 11 features to 16 dimensions.\n",
        "    - <span style=\"color:orange\">conv2</span>: Second GCN layer, mapping 16 dimensions to 2.\n",
        "- Forward Pass:\n",
        "    - <span style=\"color:orange\">x, edge_index = data.x, data.edge_index</span>: Extracts node features and edges.\n",
        "    - <span style=\"color:orange\">conv1</span>: Applies graph convolution, aggregating information from neighboring nodes.\n",
        "    - <span style=\"color:orange\">F.relu</span>: Applies ReLU activation to introduce non-linearity.\n",
        "    - <span style=\"color:orange\">F.dropout(p=0.5, training=self.training)</span>: Randomly zeros 50% of the features during training to prevent overfitting.\n",
        "    - <span style=\"color:orange\">conv2</span>: Second graph convolution produces logits for each node.\n",
        "    - <span style=\"color:orange\">F.log_softmax(x, dim=1)</span>: Converts logits to log-probabilities for classification.\n",
        "\n",
        "The GCN leverages the graph structure to learn features that combine individual passenger data with information from similar passengers, making it suitable for capturing relational patterns in survival outcomes."
      ],
      "metadata": {
        "id": "zX1r4mJGNgGr"
      }
    },
    {
      "cell_type": "code",
      "source": [
        "class GCN(torch.nn.Module):\n",
        "    def __init__(self, input_dim, hidden_dim, output_dim):\n",
        "        super(GCN, self).__init__()\n",
        "        self.conv1 = GCNConv(input_dim, hidden_dim)\n",
        "        self.conv2 = GCNConv(hidden_dim, output_dim)\n",
        "\n",
        "    def forward(self, data):\n",
        "        x, edge_index = data.x, data.edge_index\n",
        "        x = self.conv1(x, edge_index)\n",
        "        x = F.relu(x)\n",
        "        x = F.dropout(x, p=0.5, training=self.training)\n",
        "        x = self.conv2(x, edge_index)\n",
        "        return F.log_softmax(x, dim=1)"
      ],
      "metadata": {
        "trusted": true,
        "execution": {
          "iopub.status.busy": "2025-05-11T23:48:04.887204Z",
          "iopub.execute_input": "2025-05-11T23:48:04.887445Z",
          "iopub.status.idle": "2025-05-11T23:48:04.905464Z",
          "shell.execute_reply.started": "2025-05-11T23:48:04.887425Z",
          "shell.execute_reply": "2025-05-11T23:48:04.904738Z"
        },
        "id": "Spb--ETyNgGr"
      },
      "outputs": [],
      "execution_count": null
    },
    {
      "cell_type": "markdown",
      "source": [
        "## 13. Initializing Model and Optimizer\n",
        "Sets up the GCN model, moves it to the appropriate device (GPU or CPU), and configures the optimizer.\n",
        "- Device:\n",
        "    - <span style=\"color:orange\">device</span> checks for GPU availability (Kaggle provides GPU P100 or T4). If unavailable, it defaults to CPU.\n",
        "- Model:\n",
        "    - <span style=\"color:orange\">GCN</span> is instantiated with <span style=\"color:orange\">input_dim=11</span> (number of features), <span style=\"color:orange\">hidden_dim=16</span> (arbitrary choice for hidden layer size), and <span style=\"color:orange\">output_dim=2</span> (binary classification).\n",
        "    - <span style=\"color:orange\">to(device)</span> moves the model to the GPU or CPU.\n",
        "- Data:\n",
        "    - <span style=\"color:orange\">data.to(device)</span> moves the <span style=\"color:orange\">Data</span> object (features, edges, labels, masks) to the same device as the model.\n",
        "- Optimizer:\n",
        "    - <span style=\"color:orange\">Adam</span> optimizer is used with a learning rate (<span style=\"color:orange\">lr</span>) of 0.01 and weight decay (weight_decay) of 5e-4 for L2 regularization to prevent overfitting.\n",
        "    - <span style=\"color:orange\">model.parameters()</span> provides the model’s trainable weights.\n",
        "\n",
        "Initializes the training setup, ensuring compatibility between the model and data. The use of GPU accelerates training, and Adam is a robust optimizer for deep learning tasks."
      ],
      "metadata": {
        "id": "I5QKDE4UNgGs"
      }
    },
    {
      "cell_type": "code",
      "source": [
        "# Initialize model and optimizer\n",
        "device = torch.device('cuda' if torch.cuda.is_available() else 'cpu')\n",
        "model = GCN(input_dim=X_scaled.shape[1], hidden_dim=16, output_dim=2).to(device)\n",
        "data = data.to(device)\n",
        "optimizer = torch.optim.Adam(model.parameters(), lr=0.01, weight_decay=5e-4)"
      ],
      "metadata": {
        "trusted": true,
        "execution": {
          "iopub.status.busy": "2025-05-11T23:48:04.906209Z",
          "iopub.execute_input": "2025-05-11T23:48:04.906377Z",
          "iopub.status.idle": "2025-05-11T23:48:04.924216Z",
          "shell.execute_reply.started": "2025-05-11T23:48:04.906363Z",
          "shell.execute_reply": "2025-05-11T23:48:04.923525Z"
        },
        "id": "Nc1J64eCNgGs"
      },
      "outputs": [],
      "execution_count": null
    },
    {
      "cell_type": "code",
      "source": [
        "# Lists to store losses for plotting\n",
        "train_losses = []\n",
        "val_losses = []"
      ],
      "metadata": {
        "trusted": true,
        "execution": {
          "iopub.status.busy": "2025-05-11T23:48:04.924976Z",
          "iopub.execute_input": "2025-05-11T23:48:04.925246Z",
          "iopub.status.idle": "2025-05-11T23:48:04.939929Z",
          "shell.execute_reply.started": "2025-05-11T23:48:04.925214Z",
          "shell.execute_reply": "2025-05-11T23:48:04.939383Z"
        },
        "id": "8SDAGzLcNgGt"
      },
      "outputs": [],
      "execution_count": null
    },
    {
      "cell_type": "markdown",
      "source": [
        "## 14. Training Loop\n",
        "Trains the GCN model for 100 epochs, updating weights to minimize the loss on the training set.\n",
        "- Loop Setup:\n",
        "    - <span style=\"color:orange\">num_epochs = 100</span>: Trains for 100 iterations over the dataset.\n",
        "- Training Mode:\n",
        "    - <span style=\"color:orange\">model.train()</span> enables training-specific behaviors like dropout.\n",
        "- Forward Pass:\n",
        "    - <span style=\"color:orange\">optimizer.zero_grad()</span> clears previous gradients.\n",
        "    - <span style=\"color:orange\">out = model(data)</span> computes log-probabilities for all nodes.\n",
        "- Loss Calculation:\n",
        "    - <span style=\"color:orange\">F.nll_loss(out[data.train_mask], data.y[data.train_mask])</span> computes the negative log-likelihood loss for training nodes only, comparing predicted log-probabilities to true labels.\n",
        "- Backpropagation:\n",
        "    - <span style=\"color:orange\">loss.backward()</span> computes gradients.\n",
        "    - <span style=\"color:orange\">optimizer.step()</span> updates model weights using Adam.\n",
        "\n",
        "The training loop optimizes the GCN to predict survival accurately, leveraging the graph structure to learn relational patterns. The use of <span style=\"color:orange\">train_mask</span> ensures only training nodes contribute to the loss."
      ],
      "metadata": {
        "id": "H82nut2nNgGt"
      }
    },
    {
      "cell_type": "markdown",
      "source": [
        "## 15. Validation\n",
        "Evaluates the model on the validation set after each epoch, reporting loss and accuracy.\n",
        "- Evaluation Mode:\n",
        "    - <span style=\"color:orange\">model.eval()</span> disables dropout and other training-specific behaviors.\n",
        "    - <span style=\"color:orange\">with torch.no_grad()</span> prevents gradient computation for efficiency.\n",
        "- Validation Forward Pass:\n",
        "    - <span style=\"color:orange\">val_out = model(data)</span> computes predictions for all nodes.\n",
        "- Validation Loss:\n",
        "    - <span style=\"color:orange\">F.nll_loss(val_out[data.val_mask], data.y[data.val_mask])</span> computes the loss for validation nodes.\n",
        "- Accuracy:\n",
        "    - <span style=\"color:orange\">val_out.max(dim=1)</span> returns the predicted class (0 or 1) for each node.\n",
        "    - <span style=\"color:orange\">pred[data.val_mask].eq(data.y[data.val_mask])</span> compares predictions to true labels for validation nodes.\n",
        "    - <span style=\"color:orange\">sum().item()</span> counts correct predictions.\n",
        "    - <span style=\"color:orange\">acc</span> is the proportion of correct predictions (correct / 179).\n",
        "- Logging:\n",
        "    - <span style=\"color:orange\">print</span> outputs the epoch number, training loss, validation loss, and validation accuracy.\n",
        "\n",
        "Validation metrics assess the model’s generalization to unseen data, crucial for ensuring the GNN is not overfitting. The printed metrics help monitor training progress and model performance."
      ],
      "metadata": {
        "id": "cdldCYcrNgGu"
      }
    },
    {
      "cell_type": "code",
      "source": [
        "num_epochs = 100\n",
        "val_block_count = 0\n",
        "for epoch in range(num_epochs):\n",
        "    model.train()\n",
        "    optimizer.zero_grad()\n",
        "    out = model(data)\n",
        "    loss = F.nll_loss(out[data.train_mask], data.y[data.train_mask])\n",
        "    loss.backward()\n",
        "    optimizer.step()\n",
        "    train_losses.append(loss.item())\n",
        "    # Validation\n",
        "    model.eval()\n",
        "    with torch.no_grad():\n",
        "        if data.val_mask.sum() == 0:\n",
        "            raise ValueError(\"Validation mask is empty. Check train_test_split or val_mask initialization.\")\n",
        "        try:\n",
        "            val_out = model(data)\n",
        "            # Debug tensor shapes\n",
        "            print(f\"Epoch {epoch+1}, val_out shape: {val_out.shape}, val_mask shape: {data.val_mask.shape}, y shape: {data.y.shape}\")\n",
        "            if val_out[data.val_mask].shape[0] != data.y[data.val_mask].shape[0]:\n",
        "                raise ValueError(f\"Shape mismatch: val_out[data.val_mask] {val_out[data.val_mask].shape}, y[data.val_mask] {data.y[data.val_mask].shape}\")\n",
        "            val_loss = F.nll_loss(val_out[data.val_mask], data.y[data.val_mask])\n",
        "            val_losses.append(val_loss.item())\n",
        "            val_block_count += 1\n",
        "            print(f\"Epoch {epoch+1}, Val Loss: {val_loss.item():.4f}, Val Losses Length: {len(val_losses)}\")\n",
        "            _, pred = val_out.max(dim=1)\n",
        "            correct = pred[data.val_mask].eq(data.y[data.val_mask]).sum().item()\n",
        "            acc = correct / data.val_mask.sum().item() if data.val_mask.sum().item() > 0 else 0.0\n",
        "            print(f\"Epoch {epoch+1}, Train Loss: {loss.item():.4f}, Val Loss: {val_loss.item():.4f}, Val Acc: {acc:.4f}\")\n",
        "        except Exception as e:\n",
        "            print(f\"Validation error in epoch {epoch+1}: {str(e)}\")\n",
        "            continue"
      ],
      "metadata": {
        "trusted": true,
        "execution": {
          "iopub.status.busy": "2025-05-11T23:48:04.94063Z",
          "iopub.execute_input": "2025-05-11T23:48:04.940835Z",
          "iopub.status.idle": "2025-05-11T23:48:05.471951Z",
          "shell.execute_reply.started": "2025-05-11T23:48:04.94082Z",
          "shell.execute_reply": "2025-05-11T23:48:05.471374Z"
        },
        "id": "60upN4WlNgGv"
      },
      "outputs": [],
      "execution_count": null
    },
    {
      "cell_type": "code",
      "source": [
        "print(f\"Validation block executed {val_block_count} times\")\n",
        "print(f\"Length of train_losses: {len(train_losses)}, Length of val_losses: {len(val_losses)}\")"
      ],
      "metadata": {
        "trusted": true,
        "execution": {
          "iopub.status.busy": "2025-05-11T23:48:05.472692Z",
          "iopub.execute_input": "2025-05-11T23:48:05.472902Z",
          "iopub.status.idle": "2025-05-11T23:48:05.477243Z",
          "shell.execute_reply.started": "2025-05-11T23:48:05.472885Z",
          "shell.execute_reply": "2025-05-11T23:48:05.476544Z"
        },
        "id": "8pt97zNUNgGv"
      },
      "outputs": [],
      "execution_count": null
    },
    {
      "cell_type": "markdown",
      "source": [
        "| Part | Purpose | Key Functionality | Biostatistical/ML Relevance |\n",
        "|---|---|---|---|\n",
        "| Install Dependencies | Installs torch-geometric | Runs `!pip install` | Enables GNN implementation |\n",
        "| Import Libraries | Loads required tools | Imports pandas, torch, etc. | Supports data processing and modeling |\n",
        "| Load Dataset | Reads train.csv | Uses `pd.read_csv` | Provides raw data for analysis |\n",
        "| Handle Missing Values | Imputes missing Age, Embarked | Fills with mean/mode | Ensures complete data for modeling |\n",
        "| Encode Categorical Variables | Converts Sex, Embarked, Pclass to numerical | Uses mapping and one-hot encoding | Prepares data for ML |\n",
        "| Drop Irrelevant Columns | Removes PassengerId, Name, etc. | Uses `drop` | Reduces noise |\n",
        "| Define Features/Target | Separates X and y | Uses `drop` | Sets up supervised learning |\n",
        "| Standardize Features | Scales features | Uses StandardScaler | Ensures fair distance calculations |\n",
        "| Split Train/Validation | Creates training and validation sets | Uses `train_test_split` | Enables model evaluation |\n",
        "| Construct Graph | Builds k-NN graph | Computes distances, creates edges | Enables relational modeling |\n",
        "| Create Data Object | Prepares data for GNN | Uses Data | Integrates features, edges, labels |\n",
        "| Define GCN Model | Specifies GCN architecture | Uses GCNConv layers | Implements graph-based learning |\n",
        "| Initialize Model/Optimizer | Sets up training | Moves to GPU, configures Adam | Prepares for optimization |\n",
        "| Training Loop | Trains the model | Computes loss, updates weights | Optimizes survival predictions |\n",
        "| Validation | Evaluates on validation set | Computes loss, accuracy | Assesses generalization |\n"
      ],
      "metadata": {
        "id": "l4nM1CSCNgGv"
      }
    },
    {
      "cell_type": "markdown",
      "source": [
        "## 16.Save the state dictionary and Save the entire model"
      ],
      "metadata": {
        "id": "oxFkMyGNNgGw"
      }
    },
    {
      "cell_type": "code",
      "source": [
        "torch.save(model.state_dict(), '/kaggle/working/titanic_gcn_model.pth')\n",
        "torch.save(model, '/kaggle/working/titanic_gcn_model.pt')"
      ],
      "metadata": {
        "trusted": true,
        "execution": {
          "iopub.status.busy": "2025-05-11T23:48:05.478109Z",
          "iopub.execute_input": "2025-05-11T23:48:05.478334Z",
          "iopub.status.idle": "2025-05-11T23:48:05.500519Z",
          "shell.execute_reply.started": "2025-05-11T23:48:05.478318Z",
          "shell.execute_reply": "2025-05-11T23:48:05.500006Z"
        },
        "id": "FxmJL6r4NgGw"
      },
      "outputs": [],
      "execution_count": null
    },
    {
      "cell_type": "markdown",
      "source": [
        "## 17. Visualization and Metrics Setup\n",
        "- Functionality:\n",
        "    - <span style=\"color:orange\">model.eval()</span>: Switches the model to evaluation mode, disabling dropout and batch normalization layers used during training to ensure consistent predictions.\n",
        "    - <span style=\"color:orange\">with torch.no_grad()</span>: Disables gradient computation to save memory and speed up inference, as no backpropagation is needed for evaluation.\n",
        "    - <span style=\"color:orange\">val_out = model(data)</span>: Runs the model on the entire dataset to get output logits (raw scores) for all nodes in the graph.\n",
        "    - <span style=\"color:orange\">_, pred = val_out.max(dim=1)</span>: Extracts predicted classes by selecting the index (0 or 1) with the highest logit score along dimension 1 (class dimension).\n",
        "    - <span style=\"color:orange\">val_pred = pred[data.val_mask].cpu().numpy()</span>: Filters predictions for the validation set (using val_mask), moves them to CPU, and converts to a NumPy array for compatibility with scikit-learn metrics.\n",
        "    - <span style=\"color:orange\">val_true = data.y[data.val_mask].cpu().numpy()</span>: Gets the true labels for the validation set, similarly converted to NumPy.\n",
        "    - <span style=\"color:orange\">val_probs = torch.softmax(val_out[data.val_mask], dim=1)[:, 1].cpu().numpy()</span>: Applies softmax to convert validation logits to probabilities, selects the probability for class 1 (Survived), and converts to NumPy.\n",
        "<br>\n",
        "<br>\n",
        "- This block prepares the data needed for performance metrics and visualizations. It generates predictions (<span style=\"color:orange\">val_pred</span>), true labels (<span style=\"color:orange\">val_true</span>), and probabilities (<span style=\"color:orange\">val_probs</span>) for the validation set, which are used in subsequent metrics (F1 score, confusion matrix, ROC curve).\n",
        "- For the Titanic dataset, where the goal is to predict survival (binary classification), these outputs allow you to evaluate how well the GCN model distinguishes between \"Survived\" (1) and \"Not Survived\" (0).\n",
        "- The use of <span style=\"color:orange\">val_mask</span> ensures only the validation subset (20% of the data, as defined in your train-test split) is evaluated, avoiding data leakage and providing an unbiased estimate of performance."
      ],
      "metadata": {
        "id": "hBBf8SpuNgGw"
      }
    },
    {
      "cell_type": "code",
      "source": [
        "model.eval()\n",
        "with torch.no_grad():\n",
        "    val_out = model(data)\n",
        "    _, pred = val_out.max(dim=1)\n",
        "    val_pred = pred[data.val_mask].cpu().numpy()\n",
        "    val_true = data.y[data.val_mask].cpu().numpy()\n",
        "    val_probs = torch.softmax(val_out[data.val_mask], dim=1)[:, 1].cpu().numpy()"
      ],
      "metadata": {
        "trusted": true,
        "execution": {
          "iopub.status.busy": "2025-05-11T23:48:05.501087Z",
          "iopub.execute_input": "2025-05-11T23:48:05.501286Z",
          "iopub.status.idle": "2025-05-11T23:48:05.520199Z",
          "shell.execute_reply.started": "2025-05-11T23:48:05.50127Z",
          "shell.execute_reply": "2025-05-11T23:48:05.519576Z"
        },
        "id": "LpjVNneUNgGw"
      },
      "outputs": [],
      "execution_count": null
    },
    {
      "cell_type": "markdown",
      "source": [
        "## 18. F1 Score\n",
        "- <span style=\"color:orange\">f1_score(val_true, val_pred)</span>: Computes the F1 score using scikit-learn, which is the harmonic mean of precision and recall, defined as: F1 = 2 * (precision + recall) / (precision * recall)\n",
        "- <span style=\"color:orange\">val_true</span>: True validation labels (0 or 1).\n",
        "- <span style=\"color:orange\">val_pred</span>: Predicted validation labels (0 or 1).\n",
        "- <span style=\"color:orange\">print(f'Validation F1 Score: {f1:.4f}')</span>: Outputs the F1 score to the console, formatted to 4 decimal places.\n",
        "\n",
        "The F1 score is particularly relevant for the Titanic dataset, which may have class imbalance (more passengers did not survive than survived). Unlike accuracy, F1 balances precision (correct positive predictions) and recall (capturing all positive cases), making it robust for evaluating performance on minority classes (e.g., survivors).\n",
        "\n"
      ],
      "metadata": {
        "id": "6LDS7UuMNgHC"
      }
    },
    {
      "cell_type": "code",
      "source": [
        "f1 = f1_score(val_true, val_pred)\n",
        "print(f'Validation F1 Score: {f1:.4f}')"
      ],
      "metadata": {
        "trusted": true,
        "execution": {
          "iopub.status.busy": "2025-05-11T23:48:05.520972Z",
          "iopub.execute_input": "2025-05-11T23:48:05.521512Z",
          "iopub.status.idle": "2025-05-11T23:48:05.541422Z",
          "shell.execute_reply.started": "2025-05-11T23:48:05.521479Z",
          "shell.execute_reply": "2025-05-11T23:48:05.540712Z"
        },
        "id": "RNvIm3v7NgHD"
      },
      "outputs": [],
      "execution_count": null
    },
    {
      "cell_type": "markdown",
      "source": [
        "## 19. Confusion Matrix\n",
        "- Functionality:\n",
        "    - <span style=\"color:orange\">confusion_matrix(val_true, val_pred)</span>: Computes a 2x2 matrix where rows represent true labels and columns represent predicted labels. For binary classification:\n",
        "        - <span style=\"color:orange\">cm[0,0]</span>: True Negatives (correctly predicted Not Survived).\n",
        "        - <span style=\"color:orange\">cm[0,1]</span>: False Positives (incorrectly predicted Survived).\n",
        "        - <span style=\"color:orange\">cm[1,0]</span>: False Negatives (incorrectly predicted Not Survived).\n",
        "        - <span style=\"color:orange\">cm[1,1]</span>: True Positives (correctly predicted Survived).\n",
        "    - <span style=\"color:orange\">plt.figure(figsize=(8, 6))</span>: Creates a plot with dimensions 8x6 inches.\n",
        "    - <span style=\"color:orange\">sns.heatmap(...)</span>: Uses seaborn to plot the confusion matrix as a heatmap:\n",
        "        - <span style=\"color:orange\">annot=True</span>: Displays the count in each cell.\n",
        "        - <span style=\"color:orange\">fmt='d'</span>: Formats numbers as integers.\n",
        "        - <span style=\"color:orange\">cmap='Blues'</span>: Uses a blue color scheme for visual clarity.\n",
        "        - <span style=\"color:orange\">xticklabels/yticklabels</span>: Labels axes as \"Not Survived\" and \"Survived\" for interpretability.\n",
        "    - <span style=\"color:orange\">plt.title, plt.xlabel, plt.ylabel</span>: Sets the title and axis labels.\n",
        "    - <span style=\"color:orange\">plt.savefig('/kaggle/working/confusion_matrix.png')</span>: Saves the plot to Kaggle’s output directory.\n",
        "    - <span style=\"color:orange\">plt.close()</span>: Closes the plot to free memory and prevent display in Kaggle (non-interactive environment).\n",
        "<br><br>\n",
        "- The confusion matrix directly shows the model’s classification errors, which is critical for biostatistics tasks like survival prediction. For example, false negatives (failing to predict survival) could be more costly than false positives in a real-world context.\n",
        "- For the Titanic dataset, it helps you see if the model is biased toward predicting \"Not Survived\" due to class imbalance, allowing you to assess whether it’s capturing the minority class (Survived) effectively."
      ],
      "metadata": {
        "id": "mu_kcSC-NgHD"
      }
    },
    {
      "cell_type": "code",
      "source": [
        "cm = confusion_matrix(val_true, val_pred)\n",
        "plt.figure(figsize=(8, 6))\n",
        "sns.heatmap(cm, annot=True, fmt='d', cmap='Blues', xticklabels=['Not Survived', 'Survived'], yticklabels=['Not Survived', 'Survived'])\n",
        "plt.title('Confusion Matrix')\n",
        "plt.xlabel('Predicted')\n",
        "plt.ylabel('True')\n",
        "plt.savefig('/kaggle/working/confusion_matrix.png')\n",
        "plt.close()"
      ],
      "metadata": {
        "trusted": true,
        "execution": {
          "iopub.status.busy": "2025-05-11T23:48:05.542169Z",
          "iopub.execute_input": "2025-05-11T23:48:05.542791Z",
          "iopub.status.idle": "2025-05-11T23:48:05.690214Z",
          "shell.execute_reply.started": "2025-05-11T23:48:05.542765Z",
          "shell.execute_reply": "2025-05-11T23:48:05.689381Z"
        },
        "id": "XYFY2t3sNgHE"
      },
      "outputs": [],
      "execution_count": null
    },
    {
      "cell_type": "markdown",
      "source": [
        "## 20. Training and Validation Loss Curves\n",
        "- Functionality:\n",
        "    - <span style=\"color:orange\">plt.figure(figsize=(10, 6))</span>: Creates a plot with dimensions 10x6 inches.\n",
        "    - <span style=\"color:orange\">plt.plot(range(1, num_epochs + 1), train_losses, label='Training Loss')</span>: Plots the training loss (train_losses, collected during the training loop) against epoch numbers (1 to 100).\n",
        "    - <span style=\"color:orange\">plt.plot(range(1, num_epochs + 1), val_losses, label='Validation Loss')</span>: Plots the validation loss (<span style=\"color:orange\">val_losses</span>, collected during the training loop) against epochs.\n",
        "    - <span style=\"color:orange\">plt.title, plt.xlabel, plt.ylabel</span>: Sets the title and axis labels.\n",
        "    - <span style=\"color:orange\">plt.legend()</span>: Adds a legend to distinguish training and validation curves.\n",
        "    - <span style=\"color:orange\">plt.grid(True)</span>: Adds a grid for better readability.\n",
        "    - <span style=\"color:orange\">plt.savefig('/kaggle/working/loss_curves.png')</span>: Saves the plot to Kaggle’s output directory.\n",
        "    - <span style=\"color:orange\">plt.close()</span>: Closes the plot to free memory.\n",
        "<br><br>\n",
        "- Loss curves show how the model’s error (negative log-likelihood loss in your case) decreases over time for both training and validation sets. This is crucial for diagnosing model behavior:\n",
        "    - If training loss decreases but validation loss plateaus or increases, the model is overfitting.\n",
        "    - If both losses are high, the model is underfitting.\n",
        "- For the Titanic dataset, this helps you determine if the GCN is learning meaningful patterns in the graph structure or if it’s memorizing the training data."
      ],
      "metadata": {
        "id": "0LvAWUXXNgHE"
      }
    },
    {
      "cell_type": "code",
      "source": [
        "plt.figure(figsize=(10, 6))\n",
        "plt.plot(range(1, num_epochs + 1), train_losses, label='Training Loss')\n",
        "plt.plot(range(1, num_epochs + 1), val_losses, label='Validation Loss')\n",
        "plt.title('Training and Validation Loss Over Epochs')\n",
        "plt.xlabel('Epoch')\n",
        "plt.ylabel('Loss')\n",
        "plt.legend()\n",
        "plt.grid(True)\n",
        "plt.savefig('/kaggle/working/loss_curves.png')\n",
        "plt.close()"
      ],
      "metadata": {
        "trusted": true,
        "execution": {
          "iopub.status.busy": "2025-05-11T23:48:05.691063Z",
          "iopub.execute_input": "2025-05-11T23:48:05.691348Z",
          "iopub.status.idle": "2025-05-11T23:48:05.839672Z",
          "shell.execute_reply.started": "2025-05-11T23:48:05.691319Z",
          "shell.execute_reply": "2025-05-11T23:48:05.839195Z"
        },
        "id": "fO6dFJepNgHE"
      },
      "outputs": [],
      "execution_count": null
    },
    {
      "cell_type": "markdown",
      "source": [
        "## 21. ROC Curve\n",
        "- Functionality:\n",
        "    - <span style=\"color:orange\">roc_curve(val_true, val_probs)</span>: Computes the Receiver Operating Characteristic (ROC) curve, returning:\n",
        "        - <span style=\"color:orange\">fpr</span>: False Positive Rate (FPR = False Positives / (False Positives + True Negatives))\n",
        "        - <span style=\"color:orange\">tpr</span>: True Positive Rate (TPR = True Positives / (True Positives + False Negatives), also called recall).\n",
        "    - <span style=\"color:orange\">_</span>: Thresholds, ignored here.\n",
        "    - <span style=\"color:orange\">val_probs</span>: Probabilities for class 1 (Survived), used to evaluate performance at different classification thresholds.\n",
        "    - <span style=\"color:orange\">roc_auc = auc(fpr, tpr)</span>: Computes the Area Under the Curve (AUC) using the trapezoidal rule, quantifying the ROC curve’s quality.\n",
        "    - <span style=\"color:orange\">plt.figure(figsize=(8, 6))</span>: Creates a plot with dimensions 8x6 inches.\n",
        "    - <span style=\"color:orange\">plt.plot(fpr, tpr, ...)</span>: Plots the ROC curve with:\n",
        "        - <span style=\"color:orange\">color='darkorange'</span>: Orange color for visibility.\n",
        "        - <span style=\"color:orange\">lw=2</span>: Line width of 2.\n",
        "        - <span style=\"color:orange\">label=f'ROC curve (AUC = {roc_auc:.2f})'</span>: Labels the curve with the AUC value.\n",
        "    - <span style=\"color:orange\">plt.plot([0, 1], [0, 1], ...)</span>: Plots a diagonal dashed line (random classifier baseline, AUC = 0.5).\n",
        "    - <span style=\"color:orange\">plt.xlim, plt.ylim</span>: Sets axis limits for clarity.\n",
        "    - <span style=\"color:orange\">plt.xlabel, plt.ylabel, plt.title</span>: Sets axis labels and title.\n",
        "    - <span style=\"color:orange\">plt.legend(loc='lower right')</span>: Places the legend in the lower-right corner.\n",
        "    - <span style=\"color:orange\">plt.grid(True)</span>: Adds a grid.\n",
        "    - <span style=\"color:orange\">plt.savefig('/kaggle/working/roc_curve.png')</span>: Saves the plot to Kaggle’s output directory.\n",
        "    - <span style=\"color:orange\">plt.close()</span>: Closes the plot.\n",
        "<br><br>\n",
        "- The ROC curve evaluates the model’s ability to distinguish between classes (Survived vs. Not Survived) across all possible thresholds. A higher AUC (closer to 1) indicates better performance; AUC = 0.5 suggests random guessing.\n",
        "- For the Titanic dataset, where survival prediction involves imbalanced classes, the ROC curve helps assess how well the model balances sensitivity (detecting survivors) and specificity (avoiding false positives)."
      ],
      "metadata": {
        "id": "Arj-PNnfNgHF"
      }
    },
    {
      "cell_type": "code",
      "source": [
        "fpr, tpr, _ = roc_curve(val_true, val_probs)\n",
        "roc_auc = auc(fpr, tpr)\n",
        "plt.figure(figsize=(8, 6))\n",
        "plt.plot(fpr, tpr, color='darkorange', lw=2, label=f'ROC curve (AUC = {roc_auc:.2f})')\n",
        "plt.plot([0, 1], [0, 1], color='navy', lw=2, linestyle='--')\n",
        "plt.xlim([0.0, 1.0])\n",
        "plt.ylim([0.0, 1.05])\n",
        "plt.xlabel('False Positive Rate')\n",
        "plt.ylabel('True Positive Rate')\n",
        "plt.title('Receiver Operating Characteristic (ROC) Curve')\n",
        "plt.legend(loc='lower right')\n",
        "plt.grid(True)\n",
        "plt.savefig('/kaggle/working/roc_curve.png')\n",
        "plt.close()"
      ],
      "metadata": {
        "trusted": true,
        "execution": {
          "iopub.status.busy": "2025-05-11T23:48:05.840385Z",
          "iopub.execute_input": "2025-05-11T23:48:05.840625Z",
          "iopub.status.idle": "2025-05-11T23:48:05.960814Z",
          "shell.execute_reply.started": "2025-05-11T23:48:05.840601Z",
          "shell.execute_reply": "2025-05-11T23:48:05.960346Z"
        },
        "id": "L0RmfHV6NgHF"
      },
      "outputs": [],
      "execution_count": null
    }
  ]
}